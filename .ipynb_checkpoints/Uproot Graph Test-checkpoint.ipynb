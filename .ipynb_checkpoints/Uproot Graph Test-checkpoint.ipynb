{
 "cells": [
  {
   "cell_type": "code",
   "execution_count": 20,
   "id": "10e3c555",
   "metadata": {},
   "outputs": [],
   "source": [
    "import uproot\n"
   ]
  },
  {
   "cell_type": "code",
   "execution_count": 58,
   "id": "00e365e1",
   "metadata": {},
   "outputs": [],
   "source": [
    "filename = \"l1TNtuple-Htt.root\"\n",
    "treename = \"l1TNtupleProducer\"\n",
    "df = ROOT.RDataFrame(treename, filename)\n"
   ]
  },
  {
   "cell_type": "code",
   "execution_count": 21,
   "id": "5255760f",
   "metadata": {},
   "outputs": [],
   "source": [
    "file = uproot.open(filename)\n"
   ]
  },
  {
   "cell_type": "code",
   "execution_count": 57,
   "id": "8cebfbf1",
   "metadata": {},
   "outputs": [
    {
     "data": {
      "text/plain": [
       "['l1NtupleProducer;1', 'l1NtupleProducer/genParticleTree;1']"
      ]
     },
     "execution_count": 57,
     "metadata": {},
     "output_type": "execute_result"
    }
   ],
   "source": [
    "file.keys()"
   ]
  },
  {
   "cell_type": "code",
   "execution_count": 41,
   "id": "d3ed176f",
   "metadata": {},
   "outputs": [],
   "source": [
    "tree = file[\"l1NtupleProducer/genParticleTree\"]"
   ]
  },
  {
   "cell_type": "code",
   "execution_count": 42,
   "id": "7d20deda",
   "metadata": {},
   "outputs": [
    {
     "data": {
      "text/plain": [
       "['run',\n",
       " 'lumi',\n",
       " 'event',\n",
       " 'mom_Pdg',\n",
       " 'mom_Mass',\n",
       " 'mom_Pt',\n",
       " 'mom_Eta',\n",
       " 'mom_Phi',\n",
       " 'momVis_Mass',\n",
       " 'momVis_Pt',\n",
       " 'momVis_Eta',\n",
       " 'momVis_Phi',\n",
       " 'genTauPt_1',\n",
       " 'genTauEta_1',\n",
       " 'genTauPhi_1',\n",
       " 'genTauM_1',\n",
       " 'genTauPt_2',\n",
       " 'genTauEta_2',\n",
       " 'genTauPhi_2',\n",
       " 'genTauM_2',\n",
       " 'genTauLegDR',\n",
       " 'genPt_1',\n",
       " 'genEta_1',\n",
       " 'genPhi_1',\n",
       " 'genM_1',\n",
       " 'genPdg_1',\n",
       " 'genPt_2',\n",
       " 'genEta_2',\n",
       " 'genPhi_2',\n",
       " 'genM_2',\n",
       " 'genPdg_2',\n",
       " 'genLegDR',\n",
       " 'genLegDEta',\n",
       " 'genLegDPhi',\n",
       " 'nTauE',\n",
       " 'nTauMu',\n",
       " 'nTauH',\n",
       " 'nGenCandsFound',\n",
       " 'recoPt_1',\n",
       " 'recoEta_1',\n",
       " 'recoPhi_1',\n",
       " 'recoM_1',\n",
       " 'recoPt_2',\n",
       " 'recoEta_2',\n",
       " 'recoPhi_2',\n",
       " 'recoM_2',\n",
       " 'recoDiCandPt',\n",
       " 'recoDiCandM',\n",
       " 'recoDR',\n",
       " 'recoDEta',\n",
       " 'recoDPhi',\n",
       " 'l1Pt',\n",
       " 'l1Eta',\n",
       " 'l1Phi',\n",
       " 'l1BoostedPt',\n",
       " 'l1BoostedEta',\n",
       " 'l1BoostedPhi']"
      ]
     },
     "execution_count": 42,
     "metadata": {},
     "output_type": "execute_result"
    }
   ],
   "source": [
    "tree.keys()"
   ]
  },
  {
   "cell_type": "code",
   "execution_count": 27,
   "id": "d8d23d4b",
   "metadata": {},
   "outputs": [],
   "source": [
    "mom_Pt = tree[\"mom_Pt\"]"
   ]
  },
  {
   "cell_type": "code",
   "execution_count": 35,
   "id": "9fbe682a",
   "metadata": {},
   "outputs": [],
   "source": [
    "array1 = mom_Pt.array()"
   ]
  },
  {
   "cell_type": "code",
   "execution_count": 37,
   "id": "63a9296e",
   "metadata": {},
   "outputs": [],
   "source": [
    "import hist"
   ]
  },
  {
   "cell_type": "code",
   "execution_count": 68,
   "id": "f14f322e",
   "metadata": {},
   "outputs": [
    {
     "ename": "AttributeError",
     "evalue": "'Hist' object has no attribute 'axis'",
     "output_type": "error",
     "traceback": [
      "\u001b[0;31m---------------------------------------------------------------------------\u001b[0m",
      "\u001b[0;31mAttributeError\u001b[0m                            Traceback (most recent call last)",
      "\u001b[0;32m/tmp/ipykernel_6591/2956604430.py\u001b[0m in \u001b[0;36m<module>\u001b[0;34m\u001b[0m\n\u001b[1;32m      2\u001b[0m \u001b[0mh\u001b[0m\u001b[0;34m.\u001b[0m\u001b[0mfill\u001b[0m\u001b[0;34m(\u001b[0m\u001b[0marray1\u001b[0m\u001b[0;34m)\u001b[0m\u001b[0;34m\u001b[0m\u001b[0;34m\u001b[0m\u001b[0m\n\u001b[1;32m      3\u001b[0m \u001b[0mh\u001b[0m\u001b[0;34m.\u001b[0m\u001b[0mplot\u001b[0m\u001b[0;34m(\u001b[0m\u001b[0;34m)\u001b[0m\u001b[0;34m\u001b[0m\u001b[0;34m\u001b[0m\u001b[0m\n\u001b[0;32m----> 4\u001b[0;31m \u001b[0mvertexhist\u001b[0m \u001b[0;34m=\u001b[0m \u001b[0mhist\u001b[0m\u001b[0;34m.\u001b[0m\u001b[0mHist\u001b[0m\u001b[0;34m(\u001b[0m\u001b[0mh\u001b[0m\u001b[0;34m.\u001b[0m\u001b[0maxis\u001b[0m\u001b[0;34m.\u001b[0m\u001b[0mRegular\u001b[0m\u001b[0;34m(\u001b[0m\u001b[0;36m600\u001b[0m\u001b[0;34m,\u001b[0m \u001b[0;34m-\u001b[0m\u001b[0;36m1\u001b[0m\u001b[0;34m,\u001b[0m \u001b[0;36m1\u001b[0m\u001b[0;34m,\u001b[0m \u001b[0mlabel\u001b[0m\u001b[0;34m=\u001b[0m\u001b[0;34m\"x\"\u001b[0m\u001b[0;34m)\u001b[0m\u001b[0;34m,\u001b[0m \u001b[0mh\u001b[0m\u001b[0;34m.\u001b[0m\u001b[0maxis\u001b[0m\u001b[0;34m.\u001b[0m\u001b[0mRegular\u001b[0m\u001b[0;34m(\u001b[0m\u001b[0;36m600\u001b[0m\u001b[0;34m,\u001b[0m \u001b[0;34m-\u001b[0m\u001b[0;36m1\u001b[0m\u001b[0;34m,\u001b[0m \u001b[0;36m1\u001b[0m\u001b[0;34m,\u001b[0m \u001b[0mlabel\u001b[0m\u001b[0;34m=\u001b[0m\u001b[0;34m\"y\"\u001b[0m\u001b[0;34m)\u001b[0m\u001b[0;34m)\u001b[0m\u001b[0;34m\u001b[0m\u001b[0;34m\u001b[0m\u001b[0m\n\u001b[0m",
      "\u001b[0;31mAttributeError\u001b[0m: 'Hist' object has no attribute 'axis'"
     ]
    },
    {
     "data": {
      "image/png": "[encoded data removed]",
      "text/plain": [
       "<Figure size 432x288 with 1 Axes>"
      ]
     },
     "metadata": {
      "needs_background": "light"
     },
     "output_type": "display_data"
    }
   ],
   "source": [
    "h = hist.Hist(hist.axis.Regular(120, 0, 1000, label=\"Graph\"))\n",
    "h.fill(array1)\n",
    "h.plot()\n",
    "vertexhist = hist.Hist(h.axis.Regular(600, -1, 1, label=\"x\"), h.axis.Regular(600, -1, 1, label=\"y\"))"
   ]
  },
  {
   "cell_type": "code",
   "execution_count": null,
   "id": "06356873",
   "metadata": {},
   "outputs": [],
   "source": []
  }
 ],
 "metadata": {
  "kernelspec": {
   "display_name": "Python 3 (ipykernel)",
   "language": "python",
   "name": "python3"
  },
  "language_info": {
   "codemirror_mode": {
    "name": "ipython",
    "version": 3
   },
   "file_extension": ".py",
   "mimetype": "text/x-python",
   "name": "python",
   "nbconvert_exporter": "python",
   "pygments_lexer": "ipython3",
   "version": "3.9.6"
  }
 },
 "nbformat": 4,
 "nbformat_minor": 5
}
